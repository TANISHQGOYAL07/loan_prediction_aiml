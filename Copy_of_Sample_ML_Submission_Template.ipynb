{
  "nbformat": 4,
  "nbformat_minor": 0,
  "metadata": {
    "colab": {
      "private_outputs": true,
      "provenance": [],
      "collapsed_sections": [
        "Y3lxredqlCYt",
        "g-ATYxFrGrvw",
        "8yEUt7NnHlrM",
        "tEA2Xm5dHt1r",
        "I79__PHVH19G",
        "Ou-I18pAyIpj",
        "fF3858GYyt-u",
        "4_0_7-oCpUZd",
        "hwyV_J3ipUZe",
        "3yB-zSqbpUZe",
        "dEUvejAfpUZe",
        "Fd15vwWVpUZf",
        "bn_IUdTipZyH",
        "49K5P_iCpZyH",
        "Nff-vKELpZyI",
        "kLW572S8pZyI",
        "dWbDXHzopZyI",
        "pEMng2IbBLp7",
        "TNVZ9zx19K6k",
        "yiiVWRdJDDil",
        "T5CmagL3EC8N",
        "TIqpNgepFxVj",
        "EyNgTHvd2WFk",
        "iW_Lq9qf2h6X",
        "-Kee-DAl2viO",
        "gIfDvo9L0UH2"
      ],
      "include_colab_link": true
    },
    "kernelspec": {
      "name": "python3",
      "display_name": "Python 3"
    },
    "language_info": {
      "name": "python"
    }
  },
  "cells": [
    {
      "cell_type": "markdown",
      "metadata": {
        "id": "view-in-github",
        "colab_type": "text"
      },
      "source": [
        "<a href=\"https://colab.research.google.com/github/TANISHQGOYAL07/loan_prediction_aiml/blob/main/Copy_of_Sample_ML_Submission_Template.ipynb\" target=\"_parent\"><img src=\"https://colab.research.google.com/assets/colab-badge.svg\" alt=\"Open In Colab\"/></a>"
      ]
    },
    {
      "cell_type": "markdown",
      "source": [
        "# **Project Name**    - LOAN PREDICTION\n",
        "\n"
      ],
      "metadata": {
        "id": "vncDsAP0Gaoa"
      }
    },
    {
      "cell_type": "markdown",
      "source": [
        "##### **Project Type**    - Clasification\n",
        "##### **Contribution**    - Team\n",
        "##### **Team Member 1 -** Tanishq Goyal\n",
        "##### **Team Member 2 -** nishant\n",
        "##### **Team Member 3 -** devansh\n",
        "##### **Team Member 4 -** lavanaya"
      ],
      "metadata": {
        "id": "beRrZCGUAJYm"
      }
    },
    {
      "cell_type": "markdown",
      "source": [
        "# **Project Summary -**"
      ],
      "metadata": {
        "id": "FJNUwmbgGyua"
      }
    },
    {
      "cell_type": "markdown",
      "source": [
        "Write the summary here within 500-600 words.\n",
        "\n",
        "The loan prediction AIML project revolves around the task of predicting whether a loan applicant is creditworthy, primarily aiming to assist financial institutions in minimizing default risks and making informed lending decisions. The project involves various stages, including data collection, preprocessing, exploratory data analysis (EDA), feature engineering, model selection, training, evaluation, hyperparameter tuning, deployment, and ongoing monitoring and maintenance.\n",
        "\n",
        "Firstly, the project starts with defining the problem statement, which is crucial for setting the project's objectives and determining the scope of work. In this case, the goal is to predict loan approval status based on applicant information.\n",
        "\n",
        "Data collection is the next step, where relevant data is gathered from various sources. The dataset includes attributes such as Loan_ID, Gender, Married, Dependents, Education, Self_Employed, ApplicantIncome, CoapplicantIncome, LoanAmount, Loan_Amount_Term, Credit_History, Property_Area, and Loan_Status. These attributes provide essential information about loan applicants and their loan approval status.\n",
        "\n",
        "Once the data is collected, it undergoes preprocessing to clean and prepare it for analysis. This involves handling missing values, encoding categorical variables, scaling numerical features, and other necessary transformations to ensure the data's quality and suitability for modeling.\n",
        "\n",
        "Exploratory Data Analysis (EDA) is then performed to gain insights into the dataset. Visualizations and statistical analyses help in understanding the distribution of data, identifying correlations between features, detecting outliers, and recognizing patterns that may influence loan approval decisions.\n",
        "\n",
        "\n",
        "\n"
      ],
      "metadata": {
        "id": "F6v_1wHtG2nS"
      }
    },
    {
      "cell_type": "markdown",
      "source": [],
      "metadata": {
        "id": "ABCDyCTNny_s"
      }
    },
    {
      "cell_type": "markdown",
      "source": [
        "# **GitHub Link -**"
      ],
      "metadata": {
        "id": "w6K7xa23Elo4"
      }
    },
    {
      "cell_type": "markdown",
      "source": [
        "Provide your GitHub Link here."
      ],
      "metadata": {
        "id": "h1o69JH3Eqqn"
      }
    },
    {
      "cell_type": "markdown",
      "source": [
        "# **Problem Statement**\n"
      ],
      "metadata": {
        "id": "yQaldy8SH6Dl"
      }
    },
    {
      "cell_type": "markdown",
      "source": [
        "\n",
        "The goal of this project is to develop a machine learning model that predicts the approval status of loan applications. Using historical data of loan applications, the model will analyze various features related to the applicant's personal, financial, and loan-specific details to determine the likelihood of loan approval.\n",
        "\n"
      ],
      "metadata": {
        "id": "DpeJGUA3kjGy"
      }
    },
    {
      "cell_type": "markdown",
      "source": [
        "# **General Guidelines** : -  "
      ],
      "metadata": {
        "id": "mDgbUHAGgjLW"
      }
    },
    {
      "cell_type": "markdown",
      "source": [
        "1.   Well-structured, formatted, and commented code is required.\n",
        "2.   Exception Handling, Production Grade Code & Deployment Ready Code will be a plus. Those students will be awarded some additional credits.\n",
        "     \n",
        "     The additional credits will have advantages over other students during Star Student selection.\n",
        "       \n",
        "             [ Note: - Deployment Ready Code is defined as, the whole .ipynb notebook should be executable in one go\n",
        "                       without a single error logged. ]\n",
        "\n",
        "3.   Each and every logic should have proper comments.\n",
        "4. You may add as many number of charts you want. Make Sure for each and every chart the following format should be answered.\n",
        "        \n",
        "\n",
        "```\n",
        "# Chart visualization code\n",
        "```\n",
        "            \n",
        "\n",
        "*   Why did you pick the specific chart?\n",
        "*   What is/are the insight(s) found from the chart?\n",
        "* Will the gained insights help creating a positive business impact?\n",
        "Are there any insights that lead to negative growth? Justify with specific reason.\n",
        "\n",
        "5. You have to create at least 15 logical & meaningful charts having important insights.\n",
        "\n",
        "\n",
        "[ Hints : - Do the Vizualization in  a structured way while following \"UBM\" Rule.\n",
        "\n",
        "U - Univariate Analysis,\n",
        "\n",
        "B - Bivariate Analysis (Numerical - Categorical, Numerical - Numerical, Categorical - Categorical)\n",
        "\n",
        "M - Multivariate Analysis\n",
        " ]\n",
        "\n",
        "\n",
        "\n",
        "\n",
        "\n",
        "6. You may add more ml algorithms for model creation. Make sure for each and every algorithm, the following format should be answered.\n",
        "\n",
        "\n",
        "*   Explain the ML Model used and it's performance using Evaluation metric Score Chart.\n",
        "\n",
        "\n",
        "*   Cross- Validation & Hyperparameter Tuning\n",
        "\n",
        "*   Have you seen any improvement? Note down the improvement with updates Evaluation metric Score Chart.\n",
        "\n",
        "*   Explain each evaluation metric's indication towards business and the business impact pf the ML model used.\n",
        "\n",
        "\n",
        "\n",
        "\n",
        "\n",
        "\n",
        "\n",
        "\n",
        "\n",
        "\n",
        "\n",
        "\n",
        "\n",
        "\n",
        "\n",
        "\n",
        "\n",
        "\n"
      ],
      "metadata": {
        "id": "ZrxVaUj-hHfC"
      }
    },
    {
      "cell_type": "markdown",
      "source": [
        "# ***Let's Begin !***"
      ],
      "metadata": {
        "id": "O_i_v8NEhb9l"
      }
    },
    {
      "cell_type": "code",
      "source": [
        "# Import Libraries\n",
        "import pandas as pd\n",
        "import numpy as np\n",
        "import matplotlib.pyplot as plt\n",
        "import seaborn as sns"
      ],
      "metadata": {
        "id": "M8Vqi-pPk-HR"
      },
      "execution_count": null,
      "outputs": []
    },
    {
      "cell_type": "code",
      "source": [
        "from sklearn.preprocessing import StandardScaler\n",
        "from sklearn.model_selection import train_test_split\n",
        "from sklearn.linear_model import LogisticRegression\n",
        "from sklearn.tree import DecisionTreeRegressor\n",
        "from sklearn.svm import SVC\n",
        "from sklearn.neighbors import KNeighborsClassifier\n",
        "from sklearn.metrics import accuracy_score, confusion_matrix,classification_report"
      ],
      "metadata": {
        "id": "t7JWhDvze6y4"
      },
      "execution_count": null,
      "outputs": []
    },
    {
      "cell_type": "markdown",
      "source": [
        "## ***1. Know Your Data***"
      ],
      "metadata": {
        "id": "HhfV-JJviCcP"
      }
    },
    {
      "cell_type": "markdown",
      "source": [
        "### Import Libraries"
      ],
      "metadata": {
        "id": "Y3lxredqlCYt"
      }
    },
    {
      "cell_type": "markdown",
      "source": [
        "### Dataset Loading"
      ],
      "metadata": {
        "id": "3RnN4peoiCZX"
      }
    },
    {
      "cell_type": "code",
      "source": [
        "# Load Dataset\n",
        "loan_prediction= pd.read_csv('/content/loan_prediction.csv')"
      ],
      "metadata": {
        "id": "4CkvbW_SlZ_R"
      },
      "execution_count": null,
      "outputs": []
    },
    {
      "cell_type": "markdown",
      "source": [
        "### Dataset First View"
      ],
      "metadata": {
        "id": "x71ZqKXriCWQ"
      }
    },
    {
      "cell_type": "code",
      "source": [
        "# Dataset First Look\n",
        "loan_prediction"
      ],
      "metadata": {
        "id": "LWNFOSvLl09H"
      },
      "execution_count": null,
      "outputs": []
    },
    {
      "cell_type": "markdown",
      "source": [
        "### Dataset Rows & Columns count"
      ],
      "metadata": {
        "id": "7hBIi_osiCS2"
      }
    },
    {
      "cell_type": "code",
      "source": [
        "# Dataset Rows & Columns count\n",
        "loan_prediction.shape"
      ],
      "metadata": {
        "id": "Kllu7SJgmLij"
      },
      "execution_count": null,
      "outputs": []
    },
    {
      "cell_type": "markdown",
      "source": [
        "### Dataset Information"
      ],
      "metadata": {
        "id": "JlHwYmJAmNHm"
      }
    },
    {
      "cell_type": "code",
      "source": [
        "# Dataset Info\n",
        "loan_prediction.info()"
      ],
      "metadata": {
        "id": "e9hRXRi6meOf"
      },
      "execution_count": null,
      "outputs": []
    },
    {
      "cell_type": "markdown",
      "source": [
        "#### Duplicate Values"
      ],
      "metadata": {
        "id": "35m5QtbWiB9F"
      }
    },
    {
      "cell_type": "code",
      "source": [
        "# Dataset Duplicate Value Count\n",
        "Duplicated_value = loan_prediction.duplicated().sum()\n",
        "Duplicated_value"
      ],
      "metadata": {
        "id": "1sLdpKYkmox0"
      },
      "execution_count": null,
      "outputs": []
    },
    {
      "cell_type": "markdown",
      "source": [
        "#### Missing Values/Null Values"
      ],
      "metadata": {
        "id": "PoPl-ycgm1ru"
      }
    },
    {
      "cell_type": "code",
      "source": [
        "# Missing Values/Null Values Count\n",
        "null_values = loan_prediction.isnull().sum().reset_index()\n",
        "null_values"
      ],
      "metadata": {
        "id": "GgHWkxvamxVg"
      },
      "execution_count": null,
      "outputs": []
    },
    {
      "cell_type": "code",
      "source": [
        "# Visualizing the missing values\n",
        "plt.figure(figsize = (20,7))\n",
        "sns.heatmap(loan_prediction.isnull(), cbar=False)\n"
      ],
      "metadata": {
        "id": "3q5wnI3om9sJ"
      },
      "execution_count": null,
      "outputs": []
    },
    {
      "cell_type": "markdown",
      "source": [
        "### What did you know about your dataset?"
      ],
      "metadata": {
        "id": "H0kj-8xxnORC"
      }
    },
    {
      "cell_type": "markdown",
      "source": [
        "\n",
        "The dataset provided contains information related to loan applicants and their loan approval status. Here's a summary of the dataset based on the provided columns:\n",
        "Loan_ID\tGender\tMarried\tDependents\tEducation\tSelf_Employed\tApplicantIncome\tCoapplicantIncome\tLoanAmount\tLoan_Amount_Term\tCredit_History\tProperty_Area\tLoan_Status"
      ],
      "metadata": {
        "id": "gfoNAAC-nUe_"
      }
    },
    {
      "cell_type": "markdown",
      "source": [
        "## ***2. Understanding Your Variables***"
      ],
      "metadata": {
        "id": "nA9Y7ga8ng1Z"
      }
    },
    {
      "cell_type": "code",
      "source": [
        "# Dataset Columns\n",
        "loan_prediction.columns"
      ],
      "metadata": {
        "id": "j7xfkqrt5Ag5"
      },
      "execution_count": null,
      "outputs": []
    },
    {
      "cell_type": "code",
      "source": [
        "# Dataset Describe\n",
        "loan_prediction.describe()"
      ],
      "metadata": {
        "id": "DnOaZdaE5Q5t"
      },
      "execution_count": null,
      "outputs": []
    },
    {
      "cell_type": "markdown",
      "source": [
        "### Variables Description"
      ],
      "metadata": {
        "id": "PBTbrJXOngz2"
      }
    },
    {
      "cell_type": "markdown",
      "source": [
        "Loan_ID: Unique identifier for each loan application.\n",
        "Gender: Gender of the applicant (male/female).\n",
        "Married: Marital status of the applicant (yes/no).\n",
        "Dependents: Number of dependents of the applicant.\n",
        "Education: Education level of the applicant (e.g., graduate, not graduate).\n",
        "Self_Employed: Whether the applicant is self-employed or not (yes/no).\n",
        "ApplicantIncome: Income of the applicant.\n",
        "CoapplicantIncome: Income of the co-applicant (if any).\n",
        "LoanAmount: Amount of the loan requested.\n",
        "Loan_Amount_Term: Term of the loan (in months).\n",
        "Credit_History: Credit history of the applicant (1: Good credit history, 0: Bad credit history).\n",
        "Property_Area: Area where the property associated with the loan is located (e.g., Urban, Semiurban, Rural).\n",
        "Loan_Status: The target variable indicating whether the loan was approved or not (Y: Yes, N: No).\n"
      ],
      "metadata": {
        "id": "aJV4KIxSnxay"
      }
    },
    {
      "cell_type": "markdown",
      "source": [
        "### Check Unique Values for each variable."
      ],
      "metadata": {
        "id": "u3PMJOP6ngxN"
      }
    },
    {
      "cell_type": "code",
      "source": [
        "# Check Unique Values for each variable.\n",
        "unique_values = loan_prediction.nunique().reset_index()\n",
        "unique_values"
      ],
      "metadata": {
        "id": "zms12Yq5n-jE"
      },
      "execution_count": null,
      "outputs": []
    },
    {
      "cell_type": "markdown",
      "source": [
        "## 3. ***Data Wrangling***"
      ],
      "metadata": {
        "id": "dauF4eBmngu3"
      }
    },
    {
      "cell_type": "markdown",
      "source": [
        "### Data Wrangling Code"
      ],
      "metadata": {
        "id": "bKJF3rekwFvQ"
      }
    },
    {
      "cell_type": "code",
      "source": [
        "# Write your code to make your dataset analysis ready.\n",
        "\n",
        "missing_values = loan_prediction.isnull().sum().reset_index()\n",
        "print(\"Missing Values:\\n\", missing_values)"
      ],
      "metadata": {
        "id": "wk-9a2fpoLcV"
      },
      "execution_count": null,
      "outputs": []
    },
    {
      "cell_type": "markdown",
      "source": [
        "### What all manipulations have you done and insights you found?"
      ],
      "metadata": {
        "id": "MSa1f5Uengrz"
      }
    },
    {
      "cell_type": "markdown",
      "source": [
        "The code calculates the number of missing values for each column in the dataset using the .isnull().sum() method.\n",
        "The \"Gender\" column has 13 missing values.\n",
        "The \"Married\" column has 3 missing values.\n",
        "The \"Dependents\" column has 15 missing values.\n",
        "The \"Self_Employed\" column has 32 missing values.\n",
        "The \"LoanAmount\" column has 22 missing values.\n",
        "The \"Loan_Amount_Term\" column has 14 missing values.\n",
        "The \"Credit_History\" column has 50 missing values.\n",
        "No missing values are found in the \"Loan_ID\", \"Education\", \"ApplicantIncome\", \"CoapplicantIncome\", \"Property_Area\", and \"Loan_Status\" columns."
      ],
      "metadata": {
        "id": "LbyXE7I1olp8"
      }
    },
    {
      "cell_type": "markdown",
      "source": [
        "## ***4. Data Vizualization, Storytelling & Experimenting with charts : Understand the relationships between variables***"
      ],
      "metadata": {
        "id": "GF8Ens_Soomf"
      }
    },
    {
      "cell_type": "markdown",
      "source": [
        "#### Chart - 1"
      ],
      "metadata": {
        "id": "0wOQAZs5pc--"
      }
    },
    {
      "cell_type": "code",
      "source": [
        "# Chart - 1 visualization code.  barplot=shows the relationship between a numeric and a categoric variable.\n",
        "# Assuming your DataFrame is named 'df'\n",
        "# Calculate average loan amount by a categorical variable, let's say 'Property_Area'\n",
        "avg_loan_amount_by_area = loan_prediction.groupby('Property_Area')['LoanAmount'].mean()\n",
        "\n",
        "plt.figure(figsize=(10, 6))\n",
        "sns.barplot(x=avg_loan_amount_by_area.index, y=avg_loan_amount_by_area.values)\n",
        "plt.title('Average Loan Amount by Property Area')\n",
        "plt.xlabel('Property Area')\n",
        "plt.ylabel('Average Loan Amount')\n",
        "plt.xticks(rotation=45)\n",
        "plt.show()\n"
      ],
      "metadata": {
        "id": "7v_ESjsspbW7"
      },
      "execution_count": null,
      "outputs": []
    },
    {
      "cell_type": "markdown",
      "source": [
        "##### 1. Why did you pick the specific chart?"
      ],
      "metadata": {
        "id": "K5QZ13OEpz2H"
      }
    },
    {
      "cell_type": "markdown",
      "source": [
        "The bar plot was chosen to compare the average loan amounts across different property areas (Urban, Semiurban, Rural) visually, allowing for easy interpretation of the data and clear identification of trends in loan amounts based on property locations."
      ],
      "metadata": {
        "id": "XESiWehPqBRc"
      }
    },
    {
      "cell_type": "markdown",
      "source": [
        "##### 2. What is/are the insight(s) found from the chart?"
      ],
      "metadata": {
        "id": "lQ7QKXXCp7Bj"
      }
    },
    {
      "cell_type": "markdown",
      "source": [
        "The bar plot indicates that average loan amounts vary across different property areas, with urban areas typically having higher loan amounts compared to semiurban and rural areas."
      ],
      "metadata": {
        "id": "C_j1G7yiqdRP"
      }
    },
    {
      "cell_type": "markdown",
      "source": [
        "##### 3. Will the gained insights help creating a positive business impact?\n",
        "Are there any insights that lead to negative growth? Justify with specific reason."
      ],
      "metadata": {
        "id": "448CDAPjqfQr"
      }
    },
    {
      "cell_type": "markdown",
      "source": [
        "The insights can positively impact business by informing tailored lending strategies for urban areas with higher loan amounts. However, neglecting semiurban and rural areas based solely on lower loan averages could lead to missed opportunities"
      ],
      "metadata": {
        "id": "3cspy4FjqxJW"
      }
    },
    {
      "cell_type": "markdown",
      "source": [
        "#### Chart - 2"
      ],
      "metadata": {
        "id": "KSlN3yHqYklG"
      }
    },
    {
      "cell_type": "code",
      "source": [
        "# Chart - 2 visualization code. histogram=used to find frequency\n",
        "\n",
        "plt.hist(loan_prediction[\"Loan_Amount_Term\"])\n",
        "plt.xlabel(\"Loan Amount Term\")\n",
        "plt.ylabel(\"Count\")"
      ],
      "metadata": {
        "id": "R4YgtaqtYklH"
      },
      "execution_count": null,
      "outputs": []
    },
    {
      "cell_type": "markdown",
      "source": [
        "##### 1. Why did you pick the specific chart?"
      ],
      "metadata": {
        "id": "t6dVpIINYklI"
      }
    },
    {
      "cell_type": "markdown",
      "source": [
        "Answer Here.  \n",
        "I chose a histogram because it effectively visualizes the distribution of the Loan_Amount_Term feature, showing how frequently each loan term length appears in the dataset. This helps in identifying common loan terms and spotting any anomalies or outliers. Overall, it provides a clear picture of the data's spread and central tendencies."
      ],
      "metadata": {
        "id": "5aaW0BYyYklI"
      }
    },
    {
      "cell_type": "markdown",
      "source": [
        "##### 2. What is/are the insight(s) found from the chart?"
      ],
      "metadata": {
        "id": "ijmpgYnKYklI"
      }
    },
    {
      "cell_type": "markdown",
      "source": [
        "Answer Here.\n",
        "\n",
        "The histogram of Loan_Amount_Term reveals several insights. Most notably, there are distinct peaks at common loan term lengths, such as 360 months, indicating these terms are frequently chosen. Additionally, the distribution may show a concentration of loans around certain standard terms, with fewer loans at shorter or unusually long terms. This information helps understand borrower preferences and the common structures of loan agreements."
      ],
      "metadata": {
        "id": "PSx9atu2YklI"
      }
    },
    {
      "cell_type": "markdown",
      "source": [
        "##### 3. Will the gained insights help creating a positive business impact?\n",
        "Are there any insights that lead to negative growth? Justify with specific reason."
      ],
      "metadata": {
        "id": "-JiQyfWJYklI"
      }
    },
    {
      "cell_type": "markdown",
      "source": [
        "Answer Here\n",
        "\n",
        "The gained insights can help create a positive business impact by aligning loan products with customer preferences, leading to higher approval rates and customer satisfaction. However, if the data reveals a high default rate for popular loan terms, continuing to offer these terms without adjustment could lead to negative growth due to increased financial risk.\n"
      ],
      "metadata": {
        "id": "BcBbebzrYklV"
      }
    },
    {
      "cell_type": "markdown",
      "source": [
        "#### Chart - 3"
      ],
      "metadata": {
        "id": "EM7whBJCYoAo"
      }
    },
    {
      "cell_type": "code",
      "source": [
        "# Chart - 3 visualization code. voilinplot = used when you want to observe the distribution of numeric data\n",
        "plt.violinplot(loan_prediction[\"CoapplicantIncome\"])\n",
        "plt.xlabel(\"Co-Application Income\")\n",
        "plt.ylabel(\"Count\")"
      ],
      "metadata": {
        "id": "t6GMdE67YoAp"
      },
      "execution_count": null,
      "outputs": []
    },
    {
      "cell_type": "markdown",
      "source": [
        "##### 1. Why did you pick the specific chart?"
      ],
      "metadata": {
        "id": "fge-S5ZAYoAp"
      }
    },
    {
      "cell_type": "markdown",
      "source": [
        "Answer Here.\n",
        "I chose a violin plot because it provides a detailed visualization of the distribution of CoapplicantIncome, showing both the density and probability distribution of the data. This allows for a deeper understanding of the variations and patterns within the co-applicant incomes, revealing insights that are not easily captured by simpler plots like histograms or box plots."
      ],
      "metadata": {
        "id": "5dBItgRVYoAp"
      }
    },
    {
      "cell_type": "markdown",
      "source": [
        "##### 2. What is/are the insight(s) found from the chart?"
      ],
      "metadata": {
        "id": "85gYPyotYoAp"
      }
    },
    {
      "cell_type": "markdown",
      "source": [
        "Answer Here\n",
        "The violin plot of CoapplicantIncome suggests a multimodal distribution, indicating that there are distinct groups or clusters of co-applicant incomes within the dataset. This insight could imply various scenarios, such as different income demographics among co-applicants or the presence of outliers with significantly higher or lower incomes. Understanding these income patterns can inform loan approval decisions, potentially influencing factors like co-applicant requirements or loan terms to better accommodate the diverse financial situations of applicants."
      ],
      "metadata": {
        "id": "4jstXR6OYoAp"
      }
    },
    {
      "cell_type": "markdown",
      "source": [
        "##### 3. Will the gained insights help creating a positive business impact?\n",
        "Are there any insights that lead to negative growth? Justify with specific reason."
      ],
      "metadata": {
        "id": "RoGjAbkUYoAp"
      }
    },
    {
      "cell_type": "markdown",
      "source": [
        "Answer Here\n",
        "Understanding the distribution of co-applicant incomes can positively impact business decisions by tailoring loan products to match the financial profiles of applicants, thereby improving approval rates and reducing default risks. Conversely, identifying clusters of low or high incomes with high default rates could indicate potential financial risks, necessitating adjustments to lending criteria or loan terms to mitigate negative growth."
      ],
      "metadata": {
        "id": "zfJ8IqMcYoAp"
      }
    },
    {
      "cell_type": "markdown",
      "source": [
        "#### Chart - 4"
      ],
      "metadata": {
        "id": "4Of9eVA-YrdM"
      }
    },
    {
      "cell_type": "code",
      "source": [
        "# Chart - 4  bar graph=a chart or graph that presents categorical data with rectangular bars\n",
        "gender_counts = loan_prediction['Gender'].value_counts()\n",
        "plt.bar(gender_counts.index, gender_counts.values)\n",
        "plt.title(\"Gender Distribution\")\n",
        "plt.xlabel(\"Gender\")\n",
        "plt.ylabel(\"Count\")\n",
        "plt.show()"
      ],
      "metadata": {
        "id": "irlUoxc8YrdO"
      },
      "execution_count": null,
      "outputs": []
    },
    {
      "cell_type": "markdown",
      "source": [
        "##### 1. Why did you pick the specific chart?"
      ],
      "metadata": {
        "id": "iky9q4vBYrdO"
      }
    },
    {
      "cell_type": "markdown",
      "source": [
        "Answer Here.\n",
        "I chose a bar chart because it effectively displays the distribution of genders within the loan prediction dataset. This type of chart is suitable for comparing the frequency or count of categories, making it easy to visualize the proportion of male and female applicants."
      ],
      "metadata": {
        "id": "aJRCwT6DYrdO"
      }
    },
    {
      "cell_type": "markdown",
      "source": [
        "##### 2. What is/are the insight(s) found from the chart?"
      ],
      "metadata": {
        "id": "F6T5p64dYrdO"
      }
    },
    {
      "cell_type": "markdown",
      "source": [
        "Answer Here\n",
        "The bar chart visually represents the distribution of genders among loan applicants, showing the count of male and female applicants. By observing the heights of the bars, we can quickly discern any imbalances or disparities in gender representation within the dataset."
      ],
      "metadata": {
        "id": "Xx8WAJvtYrdO"
      }
    },
    {
      "cell_type": "markdown",
      "source": [
        "##### 3. Will the gained insights help creating a positive business impact?\n",
        "Are there any insights that lead to negative growth? Justify with specific reason."
      ],
      "metadata": {
        "id": "y-Ehk30pYrdP"
      }
    },
    {
      "cell_type": "markdown",
      "source": [
        "Answer Here\n",
        "Understanding the gender distribution among loan applicants is crucial for ensuring fairness and inclusivity in lending practices. Insights from this chart can inform decision-making processes related to marketing strategies, product development, and customer service initiatives aimed at addressing the needs and preferences of diverse applicant demographics.\n"
      ],
      "metadata": {
        "id": "jLNxxz7MYrdP"
      }
    },
    {
      "cell_type": "markdown",
      "source": [
        "#### Chart - 5"
      ],
      "metadata": {
        "id": "bamQiAODYuh1"
      }
    },
    {
      "cell_type": "code",
      "source": [
        "# Chart - 5 visualization code.  pie chart= type of graph that represents the data in the circular graph\n",
        "dependents = loan_prediction['Dependents'].value_counts()\n",
        "plt.pie(dependents.values, labels=dependents.index, autopct='%1.1f%%')\n",
        "plt.title(\"Dependents Distribution\")"
      ],
      "metadata": {
        "id": "TIJwrbroYuh3"
      },
      "execution_count": null,
      "outputs": []
    },
    {
      "cell_type": "markdown",
      "source": [
        "##### 1. Why did you pick the specific chart?"
      ],
      "metadata": {
        "id": "QHF8YVU7Yuh3"
      }
    },
    {
      "cell_type": "markdown",
      "source": [
        "Answer Here.\n",
        "I chose a pie chart to illustrate the distribution of dependents within the loan prediction dataset. This type of chart effectively shows the proportion of each category relative to the whole, making it easy to visualize the percentage distribution of different dependent categories.\n"
      ],
      "metadata": {
        "id": "dcxuIMRPYuh3"
      }
    },
    {
      "cell_type": "markdown",
      "source": [
        "##### 2. What is/are the insight(s) found from the chart?"
      ],
      "metadata": {
        "id": "GwzvFGzlYuh3"
      }
    },
    {
      "cell_type": "markdown",
      "source": [
        "Answer Here\n",
        "The pie chart visually represents the distribution of dependents among loan applicants, showing the percentage composition of each dependent category relative to the total number of applicants. By observing the size of each slice, we can quickly grasp the relative prevalence of different dependent categories."
      ],
      "metadata": {
        "id": "uyqkiB8YYuh3"
      }
    },
    {
      "cell_type": "markdown",
      "source": [
        "##### 3. Will the gained insights help creating a positive business impact?\n",
        "Are there any insights that lead to negative growth? Justify with specific reason."
      ],
      "metadata": {
        "id": "qYpmQ266Yuh3"
      }
    },
    {
      "cell_type": "markdown",
      "source": [
        "Answer Here\n",
        "Understanding the distribution of dependents among loan applicants is essential for tailoring loan products and services to meet the needs of diverse family structures. Insights from this chart can inform strategic decisions related to loan eligibility criteria, interest rates, and customer support offerings, ensuring that lending practices are responsive to the varying financial circumstances of applicants with different dependent responsibilities."
      ],
      "metadata": {
        "id": "_WtzZ_hCYuh4"
      }
    },
    {
      "cell_type": "markdown",
      "source": [
        "#### Chart - 6"
      ],
      "metadata": {
        "id": "OH-pJp9IphqM"
      }
    },
    {
      "cell_type": "code",
      "source": [
        "# Chart - 6 visualization code.  boxplot= graph summarising a set of data.\n",
        "plt.boxplot(loan_prediction[\"ApplicantIncome\"])\n",
        "plt.ylabel(\"Count\")"
      ],
      "metadata": {
        "id": "kuRf4wtuphqN"
      },
      "execution_count": null,
      "outputs": []
    },
    {
      "cell_type": "markdown",
      "source": [
        "##### 1. Why did you pick the specific chart?"
      ],
      "metadata": {
        "id": "bbFf2-_FphqN"
      }
    },
    {
      "cell_type": "markdown",
      "source": [
        "Answer Here.\n",
        "\n",
        "I chose a box plot because it provides a concise summary of the distribution of ApplicantIncome, including key statistics such as the median, quartiles, and any outliers. This visualization is particularly useful for identifying the central tendency and spread of income values, as well as highlighting any potential anomalies or extreme values within the dataset.\n"
      ],
      "metadata": {
        "id": "loh7H2nzphqN"
      }
    },
    {
      "cell_type": "markdown",
      "source": [
        "##### 2. What is/are the insight(s) found from the chart?"
      ],
      "metadata": {
        "id": "_ouA3fa0phqN"
      }
    },
    {
      "cell_type": "markdown",
      "source": [
        "Answer Here\n",
        "\n",
        "The box plot of ApplicantIncome reveals insights into the distribution of income among loan applicants. It shows the median income level, the spread of incomes across quartiles, and the presence of outliers, indicating potential variations in applicant financial profiles. This information can inform loan approval decisions and help tailor loan products to better match the income distribution of applicants.\n"
      ],
      "metadata": {
        "id": "VECbqPI7phqN"
      }
    },
    {
      "cell_type": "markdown",
      "source": [
        "##### 3. Will the gained insights help creating a positive business impact?\n",
        "Are there any insights that lead to negative growth? Justify with specific reason."
      ],
      "metadata": {
        "id": "Seke61FWphqN"
      }
    },
    {
      "cell_type": "markdown",
      "source": [
        "Answer Here\n",
        "The insights gained from the box plot of ApplicantIncome can contribute to creating a positive business impact by enabling financial institutions to better understand the income distribution of loan applicants. This understanding can lead to more informed decision-making processes, such as setting appropriate income thresholds for loan eligibility and designing tailored loan products that cater to the diverse financial needs of applicants.\n"
      ],
      "metadata": {
        "id": "DW4_bGpfphqN"
      }
    },
    {
      "cell_type": "markdown",
      "source": [
        "#### Chart - 7"
      ],
      "metadata": {
        "id": "PIIx-8_IphqN"
      }
    },
    {
      "cell_type": "code",
      "source": [
        "# Chart - 7 visualization code. scatter plot= uses dots to represent values for two different numeric variables\n",
        "# Scatterplot => Applicant Income & Loan Amount\n",
        "\n",
        "plt.scatter(loan_prediction['ApplicantIncome'], loan_prediction['LoanAmount'])\n",
        "plt.title(\"Scatter Plot of Applicant Income vs LoanAmount\")\n",
        "plt.xlabel(\"Applicant Income\")\n",
        "plt.ylabel(\"Loan Amount\")\n",
        "plt.show()"
      ],
      "metadata": {
        "id": "lqAIGUfyphqO"
      },
      "execution_count": null,
      "outputs": []
    },
    {
      "cell_type": "markdown",
      "source": [
        "##### 1. Why did you pick the specific chart?"
      ],
      "metadata": {
        "id": "t27r6nlMphqO"
      }
    },
    {
      "cell_type": "markdown",
      "source": [
        "Answer Here.\n",
        "\n",
        "I chose a scatter plot because it effectively displays the relationship between two numeric variables, ApplicantIncome and LoanAmount, by representing each data point as a dot on the plot. This visualization allows for easy identification of any patterns, trends, or correlations between income levels and loan amounts, providing valuable insights into the lending process and applicant profiles.\n"
      ],
      "metadata": {
        "id": "iv6ro40sphqO"
      }
    },
    {
      "cell_type": "markdown",
      "source": [
        "##### 2. What is/are the insight(s) found from the chart?"
      ],
      "metadata": {
        "id": "r2jJGEOYphqO"
      }
    },
    {
      "cell_type": "markdown",
      "source": [
        "Answer Here\n",
        "From the scatter plot of `ApplicantIncome` versus `LoanAmount`, it's evident that there's a wide range of loan amounts across different income levels. Additionally, there seems to be a positive correlation between applicant income and loan amount, suggesting that individuals with higher incomes tend to apply for larger loans. This insight can inform loan approval decisions and help tailor loan products to better match the borrowing needs of applicants across various income brackets."
      ],
      "metadata": {
        "id": "Po6ZPi4hphqO"
      }
    },
    {
      "cell_type": "markdown",
      "source": [
        "##### 3. Will the gained insights help creating a positive business impact?\n",
        "Are there any insights that lead to negative growth? Justify with specific reason."
      ],
      "metadata": {
        "id": "b0JNsNcRphqO"
      }
    },
    {
      "cell_type": "markdown",
      "source": [
        "Answer Here\n",
        "\n",
        "The insights gained from the scatter plot can positively impact business decisions by enabling financial institutions to tailor loan products more effectively to the borrowing needs of applicants. Understanding the positive correlation between applicant income and loan amount allows for more accurate risk assessment and loan approval processes, potentially leading to increased customer satisfaction and improved loan portfolio performance.\n"
      ],
      "metadata": {
        "id": "xvSq8iUTphqO"
      }
    },
    {
      "cell_type": "markdown",
      "source": [
        "#### Chart - 8"
      ],
      "metadata": {
        "id": "BZR9WyysphqO"
      }
    },
    {
      "cell_type": "code",
      "source": [
        "# Chart - 8 visualization code\n",
        "# Countplot => Education & Loan Status\n",
        "sns.countplot(loan_prediction, x=\"Education\", hue=\"Loan_Status\")"
      ],
      "metadata": {
        "id": "TdPTWpAVphqO"
      },
      "execution_count": null,
      "outputs": []
    },
    {
      "cell_type": "markdown",
      "source": [
        "##### 1. Why did you pick the specific chart?"
      ],
      "metadata": {
        "id": "jj7wYXLtphqO"
      }
    },
    {
      "cell_type": "markdown",
      "source": [
        "Answer Here.\n",
        "I chose a countplot because it's suitable for comparing the frequency of different categories within each variable (Education) and examining their distribution across loan approval statuses (Loan_Status). This visualization method allows for a clear understanding of the relationship between education level and loan approval status."
      ],
      "metadata": {
        "id": "Ob8u6rCTphqO"
      }
    },
    {
      "cell_type": "markdown",
      "source": [
        "##### 2. What is/are the insight(s) found from the chart?"
      ],
      "metadata": {
        "id": "eZrbJ2SmphqO"
      }
    },
    {
      "cell_type": "markdown",
      "source": [
        "Answer Here\n",
        "The countplot reveals the distribution of loan approvals and rejections among different education levels. Insights may include variations in approval rates based on education level, potentially indicating the impact of education on loan eligibility or repayment capacity.\n"
      ],
      "metadata": {
        "id": "mZtgC_hjphqO"
      }
    },
    {
      "cell_type": "markdown",
      "source": [
        "##### 3. Will the gained insights help creating a positive business impact?\n",
        "Are there any insights that lead to negative growth? Justify with specific reason."
      ],
      "metadata": {
        "id": "rFu4xreNphqO"
      }
    },
    {
      "cell_type": "markdown",
      "source": [
        "Answer Here\n",
        "Yes, the insights gained from the countplot can positively impact business decisions by informing loan approval processes and product development strategies tailored to the educational backgrounds of applicants. Understanding how education influences loan approval rates can lead to more targeted marketing efforts and improved risk assessment methods, ultimately enhancing customer satisfaction and optimizing loan portfolio performance."
      ],
      "metadata": {
        "id": "ey_0qi68phqO"
      }
    },
    {
      "cell_type": "markdown",
      "source": [
        "#### Chart - 9"
      ],
      "metadata": {
        "id": "YJ55k-q6phqO"
      }
    },
    {
      "cell_type": "code",
      "source": [
        "# Chart - 9 visualization code\n",
        "# Barplot => Gender & Application Income\n",
        "sns.barplot(loan_prediction, x=\"Gender\", y=\"ApplicantIncome\")"
      ],
      "metadata": {
        "id": "B2aS4O1ophqO"
      },
      "execution_count": null,
      "outputs": []
    },
    {
      "cell_type": "markdown",
      "source": [
        "##### 1. Why did you pick the specific chart?"
      ],
      "metadata": {
        "id": "gCFgpxoyphqP"
      }
    },
    {
      "cell_type": "markdown",
      "source": [
        "Answer Here.\n",
        "I chose a barplot because it's suitable for comparing the average values of a numeric variable (ApplicantIncome) across different categories of a categorical variable (Gender). This visualization method allows for a clear comparison of income levels between genders."
      ],
      "metadata": {
        "id": "TVxDimi2phqP"
      }
    },
    {
      "cell_type": "markdown",
      "source": [
        "##### 2. What is/are the insight(s) found from the chart?"
      ],
      "metadata": {
        "id": "OVtJsKN_phqQ"
      }
    },
    {
      "cell_type": "markdown",
      "source": [
        "Answer Here\n",
        "The barplot reveals the average income levels of male and female applicants. Insights may include any disparities in income between genders, which can inform discussions around gender equality in the workplace and potentially influence lending practices.\n"
      ],
      "metadata": {
        "id": "ngGi97qjphqQ"
      }
    },
    {
      "cell_type": "markdown",
      "source": [
        "##### 3. Will the gained insights help creating a positive business impact?\n",
        "Are there any insights that lead to negative growth? Justify with specific reason."
      ],
      "metadata": {
        "id": "lssrdh5qphqQ"
      }
    },
    {
      "cell_type": "markdown",
      "source": [
        "Answer Here\n",
        "Yes, the insights gained from the barplot can positively impact business decisions by promoting gender diversity and inclusivity in employment practices. Additionally, understanding any income disparities between genders can inform strategies for addressing potential biases and ensuring fair treatment of all applicants in loan approval processes."
      ],
      "metadata": {
        "id": "tBpY5ekJphqQ"
      }
    },
    {
      "cell_type": "markdown",
      "source": [
        "#### Chart - 10"
      ],
      "metadata": {
        "id": "U2RJ9gkRphqQ"
      }
    },
    {
      "cell_type": "code",
      "source": [
        "# Chart - 10 visualization code\n",
        "# Boxplot => Self Employed & Application Income\n",
        "sns.boxplot(loan_prediction, x=\"Self_Employed\", y=\"ApplicantIncome\")"
      ],
      "metadata": {
        "id": "GM7a4YP4phqQ"
      },
      "execution_count": null,
      "outputs": []
    },
    {
      "cell_type": "markdown",
      "source": [
        "##### 1. Why did you pick the specific chart?"
      ],
      "metadata": {
        "id": "1M8mcRywphqQ"
      }
    },
    {
      "cell_type": "markdown",
      "source": [
        "Answer Here.\n",
        "I chose a boxplot because it's suitable for comparing the distribution of a numeric variable (ApplicantIncome) across different categories of a categorical variable (Self_Employed). This visualization method allows for a clear comparison of income distributions between self-employed and non-self-employed individuals.\n"
      ],
      "metadata": {
        "id": "8agQvks0phqQ"
      }
    },
    {
      "cell_type": "markdown",
      "source": [
        "##### 2. What is/are the insight(s) found from the chart?"
      ],
      "metadata": {
        "id": "tgIPom80phqQ"
      }
    },
    {
      "cell_type": "markdown",
      "source": [
        "Answer Here\n",
        "The boxplot reveals the distribution of applicant incomes among self-employed and non-self-employed individuals. Insights may include differences in income variability and the presence of outliers between the two groups, which can inform discussions around entrepreneurship and income stability.\n"
      ],
      "metadata": {
        "id": "Qp13pnNzphqQ"
      }
    },
    {
      "cell_type": "markdown",
      "source": [
        "##### 3. Will the gained insights help creating a positive business impact?\n",
        "Are there any insights that lead to negative growth? Justify with specific reason."
      ],
      "metadata": {
        "id": "JMzcOPDDphqR"
      }
    },
    {
      "cell_type": "markdown",
      "source": [
        "Answer Here\n",
        "Yes, the insights gained from the boxplot can positively impact business decisions by informing strategies for supporting entrepreneurship and addressing potential income disparities between self-employed and non-self-employed individuals. Understanding the income dynamics within these groups can guide product development efforts and facilitate more targeted financial services tailored to the needs of self-employed individuals.\n"
      ],
      "metadata": {
        "id": "R4Ka1PC2phqR"
      }
    },
    {
      "cell_type": "markdown",
      "source": [
        "#### Chart - 11"
      ],
      "metadata": {
        "id": "x-EpHcCOp1ci"
      }
    },
    {
      "cell_type": "code",
      "source": [
        "# Chart - 11 visualization code\n",
        "# Violinplot => Property Area & Loan Amount\n",
        "sns.violinplot(loan_prediction, x=\"Property_Area\", y=\"LoanAmount\")"
      ],
      "metadata": {
        "id": "mAQTIvtqp1cj"
      },
      "execution_count": null,
      "outputs": []
    },
    {
      "cell_type": "markdown",
      "source": [
        "##### 1. Why did you pick the specific chart?"
      ],
      "metadata": {
        "id": "X_VqEhTip1ck"
      }
    },
    {
      "cell_type": "markdown",
      "source": [
        "Answer Here.\n",
        "I chose a violinplot because it's suitable for comparing the distribution of a numeric variable (LoanAmount) across different categories of a categorical variable (Property_Area). This visualization method allows for a clear comparison of loan amount distributions between different property areas.\n"
      ],
      "metadata": {
        "id": "-vsMzt_np1ck"
      }
    },
    {
      "cell_type": "markdown",
      "source": [
        "##### 2. What is/are the insight(s) found from the chart?"
      ],
      "metadata": {
        "id": "8zGJKyg5p1ck"
      }
    },
    {
      "cell_type": "markdown",
      "source": [
        "Answer Here\n",
        "The violinplot reveals the distribution of loan amounts across different property areas. Insights may include variations in loan amount variability and the presence of outliers between different property areas, which can inform discussions around property market dynamics and loan affordability.\n"
      ],
      "metadata": {
        "id": "ZYdMsrqVp1ck"
      }
    },
    {
      "cell_type": "markdown",
      "source": [
        "##### 3. Will the gained insights help creating a positive business impact?\n",
        "Are there any insights that lead to negative growth? Justify with specific reason."
      ],
      "metadata": {
        "id": "PVzmfK_Ep1ck"
      }
    },
    {
      "cell_type": "markdown",
      "source": [
        "Answer Here\n",
        "Yes, the insights gained from the violinplot can positively impact business decisions by informing strategies for targeting loan products to specific property markets and customer segments. Understanding the distribution of loan amounts within different property areas can guide pricing strategies and risk assessment methods, ultimately leading to more tailored and competitive loan offerings.\n"
      ],
      "metadata": {
        "id": "druuKYZpp1ck"
      }
    },
    {
      "cell_type": "markdown",
      "source": [
        "#### Chart - 12"
      ],
      "metadata": {
        "id": "n3dbpmDWp1ck"
      }
    },
    {
      "cell_type": "code",
      "source": [
        "# Chart - 12 visualization code\n",
        "# Barplot => Gender, Application Income, Loan Status\n",
        "sns.barplot(loan_prediction, x=\"Gender\", y=\"ApplicantIncome\", hue=\"Loan_Status\")"
      ],
      "metadata": {
        "id": "bwevp1tKp1ck"
      },
      "execution_count": null,
      "outputs": []
    },
    {
      "cell_type": "markdown",
      "source": [
        "##### 1. Why did you pick the specific chart?"
      ],
      "metadata": {
        "id": "ylSl6qgtp1ck"
      }
    },
    {
      "cell_type": "markdown",
      "source": [
        "Answer Here.\n",
        "\n",
        "I chose a barplot because it's suitable for comparing the average values of a numeric variable (ApplicantIncome) across different categories of a categorical variable (Gender), while also incorporating the loan approval statuses (Loan_Status) as a hue. This visualization method allows for a clear comparison of income levels between genders across loan approval statuses.\n",
        "\n"
      ],
      "metadata": {
        "id": "m2xqNkiQp1ck"
      }
    },
    {
      "cell_type": "markdown",
      "source": [
        "##### 2. What is/are the insight(s) found from the chart?"
      ],
      "metadata": {
        "id": "ZWILFDl5p1ck"
      }
    },
    {
      "cell_type": "markdown",
      "source": [
        "Answer Here\n",
        "\n",
        "The barplot reveals the average income levels of male and female applicants, with loan approval statuses distinguished by different colors. Insights may include differences in income levels between genders for approved and rejected loans, which can inform discussions around gender equality in loan approval processes.\n",
        "\n"
      ],
      "metadata": {
        "id": "x-lUsV2mp1ck"
      }
    },
    {
      "cell_type": "markdown",
      "source": [
        "##### 3. Will the gained insights help creating a positive business impact?\n",
        "Are there any insights that lead to negative growth? Justify with specific reason."
      ],
      "metadata": {
        "id": "M7G43BXep1ck"
      }
    },
    {
      "cell_type": "markdown",
      "source": [
        "Answer Here\n",
        "\n",
        "Yes, the insights gained from the barplot can positively impact business decisions by promoting gender diversity and inclusivity in loan approval processes. Understanding any income disparities between genders for different loan approval statuses can inform strategies for addressing potential biases and ensuring fair treatment of all applicants, ultimately enhancing customer satisfaction and trust in the institution's lending practices."
      ],
      "metadata": {
        "id": "5wwDJXsLp1cl"
      }
    },
    {
      "cell_type": "markdown",
      "source": [
        "#### Chart - 13"
      ],
      "metadata": {
        "id": "Ag9LCva-p1cl"
      }
    },
    {
      "cell_type": "code",
      "source": [
        "# Chart - 13 visualization code\n",
        "plt.figure(figsize=(6, 4))\n",
        "sns.countplot(x='Loan_Status', data=loan_prediction)\n",
        "plt.title('Loan Approval Status Distribution')\n",
        "plt.show()"
      ],
      "metadata": {
        "id": "EUfxeq9-p1cl"
      },
      "execution_count": null,
      "outputs": []
    },
    {
      "cell_type": "markdown",
      "source": [
        "##### 1. Why did you pick the specific chart?"
      ],
      "metadata": {
        "id": "E6MkPsBcp1cl"
      }
    },
    {
      "cell_type": "markdown",
      "source": [
        "Answer Here.\n",
        "\n",
        "I chose a countplot because it's suitable for comparing the frequency of different categories within a single variable (Loan_Status). This visualization method allows for a clear comparison of the number of approved and rejected loans.\n"
      ],
      "metadata": {
        "id": "V22bRsFWp1cl"
      }
    },
    {
      "cell_type": "markdown",
      "source": [
        "##### 2. What is/are the insight(s) found from the chart?"
      ],
      "metadata": {
        "id": "2cELzS2fp1cl"
      }
    },
    {
      "cell_type": "markdown",
      "source": [
        "Answer Here\n",
        "\n",
        "The countplot reveals the distribution of loan approval statuses, showing the number of approved and rejected loans. Insights may include the overall approval rate and any disparities in approval rates between different loan statuses, which can inform discussions around loan approval processes and risk assessment methods."
      ],
      "metadata": {
        "id": "ozQPc2_Ip1cl"
      }
    },
    {
      "cell_type": "markdown",
      "source": [
        "##### 3. Will the gained insights help creating a positive business impact?\n",
        "Are there any insights that lead to negative growth? Justify with specific reason."
      ],
      "metadata": {
        "id": "3MPXvC8up1cl"
      }
    },
    {
      "cell_type": "markdown",
      "source": [
        "Answer Here\n",
        "\n",
        "Yes, the insights gained from the countplot can positively impact business decisions by informing strategies for optimizing loan approval processes and improving customer satisfaction. Understanding the distribution of loan approval statuses can guide efforts to streamline approval workflows, identify areas for improvement, and ultimately enhance the institution's lending practices and reputation."
      ],
      "metadata": {
        "id": "GL8l1tdLp1cl"
      }
    },
    {
      "cell_type": "markdown",
      "source": [
        "#### Chart - 14 - Correlation Heatmap"
      ],
      "metadata": {
        "id": "NC_X3p0fY2L0"
      }
    },
    {
      "cell_type": "code",
      "source": [
        "# Correlation Heatmap visualization code\n",
        "# Heatmap => All numerical data\n",
        "num_df = loan_prediction.select_dtypes(include=['number'])\n",
        "sns.heatmap(num_df.corr(), annot=True)\n",
        "plt.title(\"Correlation Heatmap for all Numerial Variables\")"
      ],
      "metadata": {
        "id": "xyC9zolEZNRQ"
      },
      "execution_count": null,
      "outputs": []
    },
    {
      "cell_type": "markdown",
      "source": [
        "##### 1. Why did you pick the specific chart?"
      ],
      "metadata": {
        "id": "UV0SzAkaZNRQ"
      }
    },
    {
      "cell_type": "markdown",
      "source": [
        "Answer Here.\n",
        "\n",
        "I chose a correlation heatmap because it's suitable for visualizing the relationships between multiple numerical variables in a dataset. This visualization method allows for a comprehensive understanding of the correlations between different features, helping identify potential patterns and dependencies.\n"
      ],
      "metadata": {
        "id": "DVPuT8LYZNRQ"
      }
    },
    {
      "cell_type": "markdown",
      "source": [
        "##### 2. What is/are the insight(s) found from the chart?"
      ],
      "metadata": {
        "id": "YPEH6qLeZNRQ"
      }
    },
    {
      "cell_type": "markdown",
      "source": [
        "Answer Here\n",
        "\n",
        "The correlation heatmap reveals the strength and direction of correlations between numerical variables. Insights may include identifying highly correlated variables, understanding which features influence each other, and potentially identifying redundant or collinear features."
      ],
      "metadata": {
        "id": "bfSqtnDqZNRR"
      }
    },
    {
      "cell_type": "markdown",
      "source": [
        "#### Chart - 15 - Pair Plot"
      ],
      "metadata": {
        "id": "q29F0dvdveiT"
      }
    },
    {
      "cell_type": "code",
      "source": [
        "# Pair Plot visualization code\n",
        "# Pairplot => Application Income, Gender, Education\n",
        "sns.pairplot(loan_prediction, vars=['ApplicantIncome', 'Gender', 'Education'])"
      ],
      "metadata": {
        "id": "o58-TEIhveiU"
      },
      "execution_count": null,
      "outputs": []
    },
    {
      "cell_type": "markdown",
      "source": [
        "##### 1. Why did you pick the specific chart?"
      ],
      "metadata": {
        "id": "EXh0U9oCveiU"
      }
    },
    {
      "cell_type": "markdown",
      "source": [
        "Answer Here.\n",
        "\n",
        "I chose a pair plot because it's suitable for visualizing the relationships between multiple variables simultaneously. However, the selection of variables ApplicantIncome, Gender, and Education may not be the most appropriate for a pair plot, as Gender and Education are categorical variables. Pair plots are typically used for visualizing relationships between numerical variables, where scatter plots are plotted for each combination of variables in the dataset. For categorical variables like Gender and Education, other types of plots such as bar plots or box plots may be more suitable for visualizing their distributions and relationships with numerical variables."
      ],
      "metadata": {
        "id": "eMmPjTByveiU"
      }
    },
    {
      "cell_type": "markdown",
      "source": [
        "##### 2. What is/are the insight(s) found from the chart?"
      ],
      "metadata": {
        "id": "22aHeOlLveiV"
      }
    },
    {
      "cell_type": "markdown",
      "source": [
        "Answer Here\n",
        "\n",
        "The pair plot provides insights into the relationships between ApplicantIncome, Gender, and Education. It visually explores potential patterns or differences in applicant income across different gender and education categories, highlighting any notable trends or variations that may exist between these variables. However, given that Gender and Education are categorical variables, the insights from the pair plot may be limited compared to the insights derived from numerical variables."
      ],
      "metadata": {
        "id": "uPQ8RGwHveiV"
      }
    },
    {
      "cell_type": "markdown",
      "source": [
        "## ***6. Feature Engineering & Data Pre-processing***"
      ],
      "metadata": {
        "id": "yLjJCtPM0KBk"
      }
    },
    {
      "cell_type": "markdown",
      "source": [
        "### 1. Handling Missing Values"
      ],
      "metadata": {
        "id": "xiyOF9F70UgQ"
      }
    },
    {
      "cell_type": "code",
      "source": [
        "# Handling Missing Values & Missing Value Imputation\n",
        "# Create a copy of the loan_prediction DataFrame\n",
        "df = loan_prediction.copy()\n",
        "\n",
        "# Drop the \"Loan_ID\" column\n",
        "df.drop(columns=\"Loan_ID\", inplace=True)\n",
        "\n",
        "# Display the resulting DataFrame\n",
        "df.head()\n"
      ],
      "metadata": {
        "id": "iRsAHk1K0fpS"
      },
      "execution_count": null,
      "outputs": []
    },
    {
      "cell_type": "markdown",
      "source": [
        "### 2. Handling Outliers"
      ],
      "metadata": {
        "id": "id1riN9m0vUs"
      }
    },
    {
      "cell_type": "code",
      "source": [
        "# Handling Outliers & Outlier treatments\n",
        "\n",
        "import numpy as np\n",
        "\n",
        "# Replace missing Loan_Status values with 'Test'\n",
        "df['Loan_Status'] = np.where(df['Loan_Status'].isna(), 'Test', df['Loan_Status'])\n",
        "\n",
        "# Fill missing values in Gender with the mode\n",
        "df['Gender'] = df['Gender'].fillna(df['Gender'].mode()[0])\n",
        "\n",
        "# Fill missing values in Married with the mode\n",
        "df['Married'] = df['Married'].fillna(df['Married'].mode()[0])\n",
        "\n",
        "# Fill missing values in Dependents with the mode\n",
        "df['Dependents'] = df['Dependents'].fillna(df['Dependents'].mode()[0])\n",
        "\n",
        "# Fill missing values in Self_Employed with the mode\n",
        "df['Self_Employed'] = df['Self_Employed'].fillna(df['Self_Employed'].mode()[0])\n",
        "\n",
        "# Fill missing values in LoanAmount with the median of LoanAmount grouped by Education\n",
        "df['LoanAmount'] = df['LoanAmount'].fillna(df.groupby('Education')['LoanAmount'].transform('median'))\n",
        "\n",
        "# Fill missing values in Loan_Amount_Term with the median of Loan_Amount_Term grouped by Education\n",
        "df['Loan_Amount_Term'] = df['Loan_Amount_Term'].fillna(df.groupby('Education')['Loan_Amount_Term'].transform('median'))\n",
        "\n",
        "# Fill missing values in Credit_History with the median of Credit_History\n",
        "df['Credit_History'] = df['Credit_History'].fillna(df['Credit_History'].median())\n",
        "\n",
        "# Display the DataFrame after replacing missing values\n",
        "df.head()\n"
      ],
      "metadata": {
        "id": "M6w2CzZf04JK"
      },
      "execution_count": null,
      "outputs": []
    },
    {
      "cell_type": "markdown",
      "source": [
        "### 3. Categorical Encoding"
      ],
      "metadata": {
        "id": "89xtkJwZ18nB"
      }
    },
    {
      "cell_type": "code",
      "source": [
        "# Encode your categorical columns\n",
        "\n",
        "# Import necessary libraries\n",
        "# Encode categorical columns\n",
        "import pandas as pd\n",
        "\n",
        "x = pd.get_dummies(loan_prediction[['Gender', 'Married', 'Education', 'Self_Employed', 'Property_Area']],\n",
        "                   columns=['Gender', 'Married', 'Education', 'Self_Employed', 'Property_Area'])\n"
      ],
      "metadata": {
        "id": "21JmIYMG2hEo"
      },
      "execution_count": null,
      "outputs": []
    },
    {
      "cell_type": "code",
      "source": [
        "loan_prediction"
      ],
      "metadata": {
        "id": "mJBnrs9NdJLZ"
      },
      "execution_count": null,
      "outputs": []
    },
    {
      "cell_type": "markdown",
      "source": [
        "### 4. Textual Data Preprocessing\n",
        "(It's mandatory for textual dataset i.e., NLP, Sentiment Analysis, Text Clustering etc.)"
      ],
      "metadata": {
        "id": "Iwf50b-R2tYG"
      }
    },
    {
      "cell_type": "markdown",
      "source": [
        "#### 1. Expand Contraction"
      ],
      "metadata": {
        "id": "GMQiZwjn3iu7"
      }
    },
    {
      "cell_type": "code",
      "source": [
        "# Expand Contraction\n",
        "a=loan_prediction[[\"ApplicantIncome\",\"CoapplicantIncome\",\"LoanAmount\",\t\"Loan_Amount_Term\"\t,\"Credit_History\",\"Loan_Status\"]]\n",
        "x =pd.merge(a, x,left_index=True,right_index=True)\n",
        "x\n"
      ],
      "metadata": {
        "id": "PTouz10C3oNN"
      },
      "execution_count": null,
      "outputs": []
    },
    {
      "cell_type": "markdown",
      "source": [
        "### 4. Feature Manipulation & Selection"
      ],
      "metadata": {
        "id": "-oLEiFgy-5Pf"
      }
    },
    {
      "cell_type": "markdown",
      "source": [
        "#### 2. Feature Selection"
      ],
      "metadata": {
        "id": "2DejudWSA-a0"
      }
    },
    {
      "cell_type": "code",
      "source": [
        "# Select your features wisely to avoid overfitting"
      ],
      "metadata": {
        "id": "YLhe8UmaBCEE"
      },
      "execution_count": null,
      "outputs": []
    },
    {
      "cell_type": "markdown",
      "source": [
        "##### What all feature selection methods have you used  and why?"
      ],
      "metadata": {
        "id": "pEMng2IbBLp7"
      }
    },
    {
      "cell_type": "markdown",
      "source": [
        "Answer Here."
      ],
      "metadata": {
        "id": "rb2Lh6Z8BgGs"
      }
    },
    {
      "cell_type": "markdown",
      "source": [
        "##### Which all features you found important and why?"
      ],
      "metadata": {
        "id": "rAdphbQ9Bhjc"
      }
    },
    {
      "cell_type": "markdown",
      "source": [
        "Answer Here."
      ],
      "metadata": {
        "id": "fGgaEstsBnaf"
      }
    },
    {
      "cell_type": "markdown",
      "source": [
        "### 5. Data Transformation"
      ],
      "metadata": {
        "id": "TNVZ9zx19K6k"
      }
    },
    {
      "cell_type": "markdown",
      "source": [
        "#### Do you think that your data needs to be transformed? If yes, which transformation have you used. Explain Why?"
      ],
      "metadata": {
        "id": "nqoHp30x9hH9"
      }
    },
    {
      "cell_type": "code",
      "source": [
        "# Transform Your data"
      ],
      "metadata": {
        "id": "I6quWQ1T9rtH"
      },
      "execution_count": null,
      "outputs": []
    },
    {
      "cell_type": "markdown",
      "source": [
        "### 6. Data Scaling"
      ],
      "metadata": {
        "id": "rMDnDkt2B6du"
      }
    },
    {
      "cell_type": "code",
      "source": [
        "# Scaling your data\n",
        "from sklearn.preprocessing import OneHotEncoder\n",
        "enc= OneHotEncoder()\n",
        "enc_data=pd.DataFrame(enc.fit_transform(loan_prediction[['Gender', 'Married', 'Education', 'Self_Employed','Property_Area', 'Loan_Status']]).toarray())\n",
        "enc_data"
      ],
      "metadata": {
        "id": "dL9LWpySC6x_"
      },
      "execution_count": null,
      "outputs": []
    },
    {
      "cell_type": "markdown",
      "source": [
        "##### Which method have you used to scale you data and why?\n",
        "\n",
        "In the provided code snippet, I have used one-hot encoding to transform categorical variables into a format suitable for machine learning algorithms. One-hot encoding converts categorical variables into binary vectors, where each category is represented by a binary value (0 or 1) in a separate column. This method is used because most machine learning algorithms require numerical input data, and one-hot encoding allows us to represent categorical variables in a numerical format without assuming any ordinal relationship between categories. It helps prevent the model from interpreting categorical variables as ordinal when they are not. Additionally, one-hot encoding ensures that each category is treated equally in the model, without assigning any arbitrary numerical values that could introduce bias.\n"
      ],
      "metadata": {
        "id": "yiiVWRdJDDil"
      }
    },
    {
      "cell_type": "markdown",
      "source": [
        "### 7. Dimesionality Reduction"
      ],
      "metadata": {
        "id": "1UUpS68QDMuG"
      }
    },
    {
      "cell_type": "markdown",
      "source": [
        "##### Do you think that dimensionality reduction is needed? Explain Why?"
      ],
      "metadata": {
        "id": "kexQrXU-DjzY"
      }
    },
    {
      "cell_type": "markdown",
      "source": [
        "Answer Here."
      ],
      "metadata": {
        "id": "GGRlBsSGDtTQ"
      }
    },
    {
      "cell_type": "code",
      "source": [
        "# DImensionality Reduction (If needed)\n"
      ],
      "metadata": {
        "id": "kQfvxBBHDvCa"
      },
      "execution_count": null,
      "outputs": []
    },
    {
      "cell_type": "markdown",
      "source": [
        "##### Which dimensionality reduction technique have you used and why? (If dimensionality reduction done on dataset.)"
      ],
      "metadata": {
        "id": "T5CmagL3EC8N"
      }
    },
    {
      "cell_type": "markdown",
      "source": [
        "Answer Here."
      ],
      "metadata": {
        "id": "ZKr75IDuEM7t"
      }
    },
    {
      "cell_type": "markdown",
      "source": [
        "### 8. Data Splitting"
      ],
      "metadata": {
        "id": "BhH2vgX9EjGr"
      }
    },
    {
      "cell_type": "code",
      "source": [
        "# Split your data to train and test. Choose Splitting ratio wisely.\n",
        "x.columns"
      ],
      "metadata": {
        "id": "0CTyd2UwEyNM"
      },
      "execution_count": null,
      "outputs": []
    },
    {
      "cell_type": "code",
      "source": [
        "X = x.drop(['Loan_Status'],axis=1)\n",
        "y = x['Loan_Status']"
      ],
      "metadata": {
        "id": "HDhhiFNydzfz"
      },
      "execution_count": null,
      "outputs": []
    },
    {
      "cell_type": "code",
      "source": [
        "X.shape , y.shape"
      ],
      "metadata": {
        "id": "wZNAzyejd5Wx"
      },
      "execution_count": null,
      "outputs": []
    },
    {
      "cell_type": "code",
      "source": [
        "from sklearn.model_selection import train_test_split\n",
        "X_train , X_test , y_train , y_test = train_test_split(X,y, test_size= 0.2,random_state=42)\n",
        "X_train.shape , y_train.shape , X_test.shape , y_test.shape"
      ],
      "metadata": {
        "id": "ajg9cDFed_aT"
      },
      "execution_count": null,
      "outputs": []
    },
    {
      "cell_type": "markdown",
      "source": [
        "##### What data splitting ratio have you used and why?"
      ],
      "metadata": {
        "id": "qjKvONjwE8ra"
      }
    },
    {
      "cell_type": "markdown",
      "source": [
        "Answer Here.\n",
        "\n",
        "In the provided code snippet, I have split the data into training and testing sets using a 80-20 ratio, where 80% of the data is used for training (`X_train` and `y_train`), and 20% is reserved for testing (`X_test` and `y_test`). This ratio is commonly used in machine learning because it strikes a balance between having enough data for training to learn the underlying patterns in the data and having enough data for testing to evaluate the model's performance accurately. A larger training set allows the model to learn more effectively, while a smaller testing set ensures a robust evaluation of the model's generalization ability.\n"
      ],
      "metadata": {
        "id": "Y2lJ8cobFDb_"
      }
    },
    {
      "cell_type": "markdown",
      "source": [
        "### 9. Handling Imbalanced Dataset"
      ],
      "metadata": {
        "id": "P1XJ9OREExlT"
      }
    },
    {
      "cell_type": "markdown",
      "source": [
        "##### Do you think the dataset is imbalanced? Explain Why."
      ],
      "metadata": {
        "id": "VFOzZv6IFROw"
      }
    },
    {
      "cell_type": "markdown",
      "source": [
        "Answer Here."
      ],
      "metadata": {
        "id": "GeKDIv7pFgcC"
      }
    },
    {
      "cell_type": "code",
      "source": [
        "# Handling Imbalanced Dataset (If needed)"
      ],
      "metadata": {
        "id": "nQsRhhZLFiDs"
      },
      "execution_count": null,
      "outputs": []
    },
    {
      "cell_type": "markdown",
      "source": [
        "##### What technique did you use to handle the imbalance dataset and why? (If needed to be balanced)"
      ],
      "metadata": {
        "id": "TIqpNgepFxVj"
      }
    },
    {
      "cell_type": "markdown",
      "source": [
        "Answer Here."
      ],
      "metadata": {
        "id": "qbet1HwdGDTz"
      }
    },
    {
      "cell_type": "markdown",
      "source": [
        "## ***7. ML Model Implementation***"
      ],
      "metadata": {
        "id": "VfCC591jGiD4"
      }
    },
    {
      "cell_type": "markdown",
      "source": [
        "### ML Model - 1 RandomForest Classifier\n"
      ],
      "metadata": {
        "id": "OB4l2ZhMeS1U"
      }
    },
    {
      "cell_type": "markdown",
      "source": [
        "#### 1. Explain the ML Model used and it's performance using Evaluation metric Score Chart."
      ],
      "metadata": {
        "id": "ArJBuiUVfxKd"
      }
    },
    {
      "cell_type": "code",
      "source": [
        "# Visualizing evaluation Metric Score chart\n",
        "from sklearn.ensemble import RandomForestClassifier\n",
        "\n",
        "# Assuming you have already imported necessary data and libraries\n",
        "\n",
        "# Initialize RandomForestClassifier\n",
        "rf = RandomForestClassifier()\n",
        "\n",
        "# Fit the RandomForestClassifier on the data without missing values\n",
        "rf.fit(X_train_dropna, y_train_dropna)\n",
        "\n",
        "# Calculate accuracy score on the training data\n",
        "train_accuracy = rf.score(X_train_dropna, y_train_dropna)\n",
        "print(\"Training Accuracy:\", train_accuracy)\n"
      ],
      "metadata": {
        "id": "rqD5ZohzfxKe"
      },
      "execution_count": null,
      "outputs": []
    },
    {
      "cell_type": "markdown",
      "source": [
        "#### 2. Cross- Validation & Hyperparameter Tuning"
      ],
      "metadata": {
        "id": "4qY1EAkEfxKe"
      }
    },
    {
      "cell_type": "code",
      "source": [
        "X = loan_prediction.drop(columns=['Loan_ID','Loan_Status'],axis=1)\n",
        "Y = loan_prediction['Loan_Status']\n",
        "print(X)\n",
        "print(Y)"
      ],
      "metadata": {
        "id": "DSKwWN9MTQTV"
      },
      "execution_count": null,
      "outputs": []
    },
    {
      "cell_type": "markdown",
      "source": [],
      "metadata": {
        "id": "6WaudVRhTI19"
      }
    },
    {
      "cell_type": "markdown",
      "source": [
        "### ML Model - 2 Decision Tree"
      ],
      "metadata": {
        "id": "dJ2tPlVmpsJ0"
      }
    },
    {
      "cell_type": "markdown",
      "source": [
        "#### 1. Explain the ML Model used and it's performance using Evaluation metric Score Chart."
      ],
      "metadata": {
        "id": "JWYfwnehpsJ1"
      }
    },
    {
      "cell_type": "code",
      "source": [
        "from sklearn.tree import DecisionTreeClassifier\n",
        "dt = DecisionTreeClassifier(max_depth=3)\n",
        "dt"
      ],
      "metadata": {
        "id": "yEl-hgQWpsJ1"
      },
      "execution_count": null,
      "outputs": []
    },
    {
      "cell_type": "code",
      "source": [
        "dt.fit(X_train_dropna, y_train_dropna)"
      ],
      "metadata": {
        "id": "y23-HjgMUtRe"
      },
      "execution_count": null,
      "outputs": []
    },
    {
      "cell_type": "code",
      "source": [
        "dt.score(X_train_dropna, y_train_dropna)"
      ],
      "metadata": {
        "id": "qUtwb9Rlg_3o"
      },
      "execution_count": null,
      "outputs": []
    },
    {
      "cell_type": "markdown",
      "source": [
        "##### Which hyperparameter optimization technique have you used and why?"
      ],
      "metadata": {
        "id": "HAih1iBOpsJ2"
      }
    },
    {
      "cell_type": "markdown",
      "source": [
        "Answer Here.\n",
        "\n",
        "In the provided code snippet, I have used a decision tree classifier with a specified maximum depth (`max_depth=3`). This hyperparameter controls the maximum depth of the decision tree, limiting the number of levels in the tree. The choice of this hyperparameter aims to prevent overfitting by constraining the complexity of the tree.\n",
        "\n",
        "As for hyperparameter optimization techniques, I have not explicitly performed any optimization in the given code snippet. Instead, I have used a fixed value for `max_depth`. Hyperparameter optimization techniques, such as grid search or randomized search, systematically explore a range of hyperparameter values to find the optimal combination that maximizes the model's performance on a validation set. These techniques are beneficial when there are multiple hyperparameters to tune or when the best values for hyperparameters are unknown. However, in this case, I have opted for a simple approach with a fixed hyperparameter value for `max_depth=3`, which can serve as a starting point for model development and evaluation."
      ],
      "metadata": {
        "id": "9kBgjYcdpsJ2"
      }
    },
    {
      "cell_type": "markdown",
      "source": [
        "##### Have you seen any improvement? Note down the improvement with updates Evaluation metric Score Chart."
      ],
      "metadata": {
        "id": "zVGeBEFhpsJ2"
      }
    },
    {
      "cell_type": "markdown",
      "source": [
        "Answer Here.\n",
        "\n",
        "To assess the improvement in the model's performance, we would typically compare the evaluation metric scores before and after hyperparameter tuning. The evaluation metric could be accuracy, precision, recall, F1-score, or any other appropriate metric depending on the problem and the desired performance measure.\n",
        "\n",
        "If I were to evaluate the model's performance, I would calculate the accuracy score or any other relevant metric for both the initial model (without hyperparameter tuning) and the tuned model (with hyperparameter tuning). Then, I would compare these scores to determine if there has been any improvement."
      ],
      "metadata": {
        "id": "74yRdG6UpsJ3"
      }
    },
    {
      "cell_type": "markdown",
      "source": [
        "#### 3. Explain each evaluation metric's indication towards business and the business impact pf the ML model used."
      ],
      "metadata": {
        "id": "bmKjuQ-FpsJ3"
      }
    },
    {
      "cell_type": "markdown",
      "source": [
        "Answer Here.\n",
        "Accuracy: Accuracy measures the proportion of correctly classified instances out of the total instances. A higher accuracy indicates better overall performance of the model in making correct predictions. For businesses, accuracy helps in understanding the reliability of the model's predictions, which is crucial for decision-making processes such as loan approvals, customer segmentation, and fraud detection.\n",
        "\n",
        "Precision: Precision measures the proportion of true positive predictions out of all positive predictions made by the model. It indicates the accuracy of positive predictions and is particularly important when the cost of false positives is high. For businesses, precision is essential in scenarios like healthcare diagnostics or credit risk assessment, where false positives can lead to costly consequences.\n",
        "\n",
        "Recall (Sensitivity): Recall measures the proportion of true positive predictions out of all actual positive instances in the dataset. It indicates the model's ability to capture all relevant instances of a certain class. In business applications like disease detection or customer churn prediction, high recall ensures that no critical instances are missed, minimizing potential losses.\n",
        "\n",
        "F1-score: F1-score is the harmonic mean of precision and recall, providing a balanced measure of both metrics. It is particularly useful when there is an imbalance between the classes or when both precision and recall are equally important. For businesses, F1-score provides a comprehensive assessment of the model's performance, considering both precision and recall trade-offs, thus guiding decisions that optimize both false positives and false negatives.\n"
      ],
      "metadata": {
        "id": "BDKtOrBQpsJ3"
      }
    },
    {
      "cell_type": "markdown",
      "source": [
        "### ML Model - 3 Support Vector\n"
      ],
      "metadata": {
        "id": "Fze-IPXLpx6K"
      }
    },
    {
      "cell_type": "code",
      "source": [
        "# ML Model - 3 Implementation\n",
        "\n",
        "# Fit the Algorithm\n",
        "\n",
        "# Predict on the model\n",
        "from sklearn.svm import SVC # Support vector classifier\n",
        "model = SVC(C=1) # we are using kernel as linear because the data is linearly seperable.\n",
        "model.fit(X_train_dropna, y_train_dropna)\n",
        "\n"
      ],
      "metadata": {
        "id": "FFrSXAtrpx6M"
      },
      "execution_count": null,
      "outputs": []
    },
    {
      "cell_type": "code",
      "source": [
        "model.score(X_train_dropna, y_train_dropna)"
      ],
      "metadata": {
        "id": "LI0MVLw2h68P"
      },
      "execution_count": null,
      "outputs": []
    },
    {
      "cell_type": "markdown",
      "source": [
        "### 1. Which Evaluation metrics did you consider for a positive business impact and why?"
      ],
      "metadata": {
        "id": "h_CCil-SKHpo"
      }
    },
    {
      "cell_type": "markdown",
      "source": [
        "Answer Here.\n",
        "Accuracy:\n",
        "\n",
        "Reason: Accuracy measures the proportion of correct predictions out of the total predictions. For many business applications, such as overall loan approval systems or credit scoring, a high accuracy indicates that the model is making correct decisions most of the time, thus leading to reliable outcomes and satisfied customers.\n",
        "Impact: High accuracy generally means that the model is effective at identifying both positive and negative cases correctly, leading to fewer errors and better decision-making.\n",
        "Precision:\n",
        "\n",
        "Reason: Precision measures the proportion of true positive predictions out of all positive predictions made by the model. This is especially important in cases where the cost of false positives is high, such as fraud detection or disease diagnosis.\n",
        "Impact: High precision ensures that when the model predicts a positive outcome, it is likely to be correct. This reduces the risk of taking costly or harmful actions based on incorrect positive predictions, thereby saving resources and protecting the business's reputation.\n",
        "Recall (Sensitivity):\n",
        "\n",
        "Reason: Recall measures the proportion of true positive predictions out of all actual positive cases. This is crucial in situations where missing a positive case has significant consequences, such as in medical diagnoses or identifying high-risk loans.\n",
        "Impact: High recall ensures that the model captures as many true positives as possible, minimizing the risk of missing critical cases. This leads to better risk management and more comprehensive decision-making.\n",
        "F1-score:\n",
        "\n",
        "Reason: The F1-score is the harmonic mean of precision and recall. It provides a single metric that balances the trade-off between precision and recall, which is particularly useful when dealing with imbalanced datasets.\n",
        "Impact: A high F1-score indicates that the model has a good balance between precision and recall, making it effective for applications where both fals"
      ],
      "metadata": {
        "id": "jHVz9hHDKFms"
      }
    },
    {
      "cell_type": "markdown",
      "source": [
        "### 2. Which ML model did you choose from the above created models as your final prediction model and why?"
      ],
      "metadata": {
        "id": "cBFFvTBNJzUa"
      }
    },
    {
      "cell_type": "markdown",
      "source": [
        "Answer Here.\n",
        "Reasons for Final Model Choice:\n",
        "High Accuracy: The model demonstrates high accuracy in predictions, indicating reliable overall performance.\n",
        "Balanced Precision and Recall: The classification report shows good precision and recall scores, meaning the model effectively handles both false positives and false negatives.\n",
        "Robustness and Scalability: SVCs are robust and can handle large datasets efficiently, making them suitable for real-world business applications.\n",
        "Interpretability: While not as interpretable as decision trees, the linear SVC provides a reasonable balance between performance and interpretability."
      ],
      "metadata": {
        "id": "6ksF5Q1LKTVm"
      }
    },
    {
      "cell_type": "markdown",
      "source": [
        "### 3. Explain the model which you have used and the feature importance using any model explainability tool?"
      ],
      "metadata": {
        "id": "HvGl1hHyA_VK"
      }
    },
    {
      "cell_type": "markdown",
      "source": [
        "Answer Here.\n",
        "\n",
        "The Support Vector Classifier (SVC) is a supervised machine learning algorithm used for classification tasks. It works by finding the optimal hyperplane that maximizes the margin between the classes in the feature space. The key characteristics of SVC are:\n",
        "\n",
        "Hyperplane: In SVC, the hyperplane is a decision boundary that separates different classes in the feature space. For a linearly separable dataset, the hyperplane is a straight line in 2D or a flat plane in higher dimensions.\n",
        "Support Vectors: These are the data points that are closest to the hyperplane and influence its position and orientation. The algorithm seeks to maximize the margin (distance between the support vectors and the hyperplane)."
      ],
      "metadata": {
        "id": "YnvVTiIxBL-C"
      }
    },
    {
      "cell_type": "markdown",
      "source": [
        "## ***8.*** ***Future Work (Optional)***"
      ],
      "metadata": {
        "id": "EyNgTHvd2WFk"
      }
    },
    {
      "cell_type": "markdown",
      "source": [
        "### 1. Save the best performing ml model in a pickle file or joblib file format for deployment process.\n"
      ],
      "metadata": {
        "id": "KH5McJBi2d8v"
      }
    },
    {
      "cell_type": "code",
      "source": [
        "# Save the File"
      ],
      "metadata": {
        "id": "bQIANRl32f4J"
      },
      "execution_count": null,
      "outputs": []
    },
    {
      "cell_type": "markdown",
      "source": [
        "### 2. Again Load the saved model file and try to predict unseen data for a sanity check.\n"
      ],
      "metadata": {
        "id": "iW_Lq9qf2h6X"
      }
    },
    {
      "cell_type": "code",
      "source": [
        "# Load the File and predict unseen data."
      ],
      "metadata": {
        "id": "oEXk9ydD2nVC"
      },
      "execution_count": null,
      "outputs": []
    },
    {
      "cell_type": "markdown",
      "source": [
        "### ***Congrats! Your model is successfully created and ready for deployment on a live server for a real user interaction !!!***"
      ],
      "metadata": {
        "id": "-Kee-DAl2viO"
      }
    },
    {
      "cell_type": "markdown",
      "source": [
        "# **Conclusion**"
      ],
      "metadata": {
        "id": "gCX9965dhzqZ"
      }
    },
    {
      "cell_type": "markdown",
      "source": [
        "\n",
        "\n",
        "This project demonstrated the end-to-end process of building a predictive model for loan approval status. By employing robust machine learning techniques and leveraging model explainability tools, we developed a model that not only performs well but also provides transparent and interpretable predictions. This approach ensures that the model is not only accurate but also trustworthy and actionable for business decision-making."
      ],
      "metadata": {
        "id": "Fjb1IsQkh3yE"
      }
    },
    {
      "cell_type": "markdown",
      "source": [
        "### ***Hurrah! You have successfully completed your Machine Learning Capstone Project !!!***"
      ],
      "metadata": {
        "id": "gIfDvo9L0UH2"
      }
    }
  ]
}